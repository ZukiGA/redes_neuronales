{
 "cells": [
  {
   "cell_type": "markdown",
   "metadata": {
    "id": "3VpHL2MQRNlD"
   },
   "source": [
    "# Validación cruzada\n",
    "\n",
    "## Asignación aleatoria (ejemplo con dos clases), construccion manual"
   ]
  },
  {
   "cell_type": "code",
   "execution_count": 35,
   "metadata": {},
   "outputs": [],
   "source": [
    "import pandas as pd\n",
    "from pandas import DataFrame\n",
    "import numpy as np\n",
    "from sklearn.metrics import classification_report"
   ]
  },
  {
   "cell_type": "code",
   "execution_count": 36,
   "metadata": {},
   "outputs": [],
   "source": [
    "#Leer los datos, nombre de los atributos y la clase\n",
    "setInicial=pd.read_csv('diabetes.csv')"
   ]
  },
  {
   "cell_type": "code",
   "execution_count": 37,
   "metadata": {},
   "outputs": [
    {
     "name": "stdout",
     "output_type": "stream",
     "text": [
      "Index(['preg', 'plas', 'pres', 'skin', 'insu', 'mass', 'pedi', 'age'], dtype='object')\n",
      "0    tested_positive\n",
      "1    tested_negative\n",
      "Name: class, dtype: object\n"
     ]
    }
   ],
   "source": [
    "atributosName=setInicial.columns[:-1]\n",
    "atributoClase=setInicial.columns[-1]\n",
    "clasesName=setInicial[setInicial.columns[-1]].drop_duplicates()\n",
    "print(atributosName)\n",
    "print(clasesName)"
   ]
  },
  {
   "cell_type": "code",
   "execution_count": 38,
   "metadata": {},
   "outputs": [],
   "source": [
    "#Determinar el número de pliegues\n",
    "K_folds=3\n",
    "\n",
    "#Genera una columna con un número aleatorio\n",
    "setInicial['Tmp']=pd.DataFrame(np.random.rand(len(setInicial), 1))\n",
    "\n",
    "#Se ordenan por medio del atributo aleatorio para separarlos más adelante\n",
    "setInicial=setInicial.sort_values(by='Tmp')\n",
    "setInicial.pop('Tmp')\n",
    "\n",
    "#Calcular el número de instancias por pliegue\n",
    "Num=int(len(setInicial)/K_folds)"
   ]
  },
  {
   "cell_type": "code",
   "execution_count": 40,
   "metadata": {
    "colab": {
     "base_uri": "https://localhost:8080/"
    },
    "id": "90Pk0MbHRFSl",
    "outputId": "25becbfa-699a-4943-ac8d-c3f69f065f6f"
   },
   "outputs": [
    {
     "name": "stdout",
     "output_type": "stream",
     "text": [
      "Pliegue:  1\n",
      "Train:  512  intancias.\n",
      "Test:  256  instancias.\n",
      "                 precision    recall  f1-score   support\n",
      "\n",
      "tested_positive       0.65      0.33      0.44       102\n",
      "tested_negative       0.67      0.88      0.76       154\n",
      "\n",
      "       accuracy                           0.66       256\n",
      "      macro avg       0.66      0.61      0.60       256\n",
      "   weighted avg       0.66      0.66      0.63       256\n",
      "\n",
      "Pliegue:  2\n",
      "Train:  512  intancias.\n",
      "Test:  256  instancias.\n",
      "                 precision    recall  f1-score   support\n",
      "\n",
      "tested_positive       0.70      0.53      0.60        87\n",
      "tested_negative       0.78      0.88      0.83       169\n",
      "\n",
      "       accuracy                           0.76       256\n",
      "      macro avg       0.74      0.71      0.72       256\n",
      "   weighted avg       0.75      0.76      0.75       256\n",
      "\n",
      "Pliegue:  3\n",
      "Train:  512  intancias.\n",
      "Test:  256  instancias.\n",
      "                 precision    recall  f1-score   support\n",
      "\n",
      "tested_positive       0.72      0.59      0.65        79\n",
      "tested_negative       0.83      0.90      0.86       177\n",
      "\n",
      "       accuracy                           0.80       256\n",
      "      macro avg       0.78      0.75      0.76       256\n",
      "   weighted avg       0.80      0.80      0.80       256\n",
      "\n",
      "0.8046875 0.7434895833333334 0.6640625\n"
     ]
    }
   ],
   "source": [
    "from sklearn.neural_network import MLPClassifier\n",
    "\n",
    "clasificador = MLPClassifier(solver='lbfgs', \n",
    "                    alpha=1e-5,\n",
    "                    hidden_layer_sizes=(8), \n",
    "                    random_state=42)\n",
    "\n",
    "#En cada iteración se genera un train y test\n",
    "cont=0\n",
    "f1=[]\n",
    "\n",
    "for x in range(1,K_folds+1,1):\n",
    "    print(\"Pliegue: \",x)\n",
    "\n",
    "    if x==K_folds:\n",
    "        Tope=len(setInicial)\n",
    "    else:\n",
    "        Tope=cont+Num\n",
    "\n",
    "    #Generar el train de acuerdo a los índices de cada pliegue\n",
    "    Test = setInicial.iloc[cont:Tope]\n",
    "    #Generar el test, tomando como referencia los índices que no aparecen en el train\n",
    "    Training = pd.concat( [setInicial.iloc[0:cont],setInicial.iloc[Tope:len(setInicial)]],axis=0)\n",
    "    print(\"Train: \",len(Training),\" intancias.\\nTest: \",len(Test),\" instancias.\")\n",
    "    cont += Num\n",
    "\n",
    "    #A PARTIR DE AQUÍ DE INICIA CON LA SEPARACIÓN Y CLASIFICACIÓN\n",
    "    valoresTrain = Training[atributosName]\n",
    "    valoresTest = Test[atributosName]\n",
    "    clasesTrain = Training[atributoClase]\n",
    "    clasesTest = Test[atributoClase]\n",
    "\n",
    "    ################## Modelo ###########################\n",
    "    modelo = clasificador.fit(valoresTrain, clasesTrain)\n",
    "\n",
    "    ################## Clasificar  #################\n",
    "    predict = modelo.predict(valoresTest)\n",
    "\n",
    "    ############ Evaluar ###############################\n",
    "    reporte=classification_report(clasesTest, predict, labels=clasesName, output_dict=True)\n",
    "    reporte2=classification_report(clasesTest, predict, labels=clasesName)#, output_dict=True)\n",
    "    print(reporte2)\n",
    "    f1.append(reporte['accuracy'])\n",
    "    \n",
    "print(max(f1),sum(f1)/len(f1),min(f1))"
   ]
  }
 ],
 "metadata": {
  "colab": {
   "provenance": []
  },
  "kernelspec": {
   "display_name": "Python 3 (ipykernel)",
   "language": "python",
   "name": "python3"
  },
  "language_info": {
   "codemirror_mode": {
    "name": "ipython",
    "version": 3
   },
   "file_extension": ".py",
   "mimetype": "text/x-python",
   "name": "python",
   "nbconvert_exporter": "python",
   "pygments_lexer": "ipython3",
   "version": "3.9.13"
  }
 },
 "nbformat": 4,
 "nbformat_minor": 1
}

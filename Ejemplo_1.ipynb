{
 "cells": [
  {
   "cell_type": "markdown",
   "id": "dd1ac621",
   "metadata": {},
   "source": [
    "# Entrenamiento de Redes Neuronales con Scikit Learn"
   ]
  },
  {
   "cell_type": "markdown",
   "id": "8e4bd84c",
   "metadata": {},
   "source": [
    "## Multi-layer perceptron: Ejemplo 1"
   ]
  },
  {
   "cell_type": "markdown",
   "id": "1f940688",
   "metadata": {},
   "source": [
    "En éste primer ejemplo se ilustra el entrenamiento de una Red Neuronal Artificial tipo perceptron multicapa (MLP) usando Scikit Learn. Para el ejemplo sólo se considera: como se importa el modelo MLP, como se dividien los datos en un conjunto training y un conjunto test, así como la sintaxis usada para el llamado del modelo especificando algunos hiper - parámetros de forma básica."
   ]
  },
  {
   "cell_type": "markdown",
   "id": "f0da6b64",
   "metadata": {},
   "source": [
    "Primero se importan librerias para el proyecto, así como \"make blobs\" para generar un conjunto de datos sintéticos con una distribución Gausiana"
   ]
  },
  {
   "cell_type": "code",
   "execution_count": 1,
   "id": "8944252e",
   "metadata": {},
   "outputs": [],
   "source": [
    "import matplotlib.pyplot as plt\n",
    "from sklearn.datasets import make_blobs"
   ]
  },
  {
   "cell_type": "markdown",
   "id": "46bc2043",
   "metadata": {},
   "source": [
    "Se genera un conjunto de 200 instancias divididas en 4 grupos, ubicadas cada una de ellas alrededor de los centroides definidos en blob_centers. La función make_blobs regresa el conjunto de datos generados así como sus respectivas etiquetas ([Referencia](https://scikit-learn.org/stable/modules/generated/sklearn.datasets.make_blobs.html)).\n",
    "Posteriormente se genera una gráfica con plt.subplots() ([Referencia](https://matplotlib.org/stable/api/_as_gen/matplotlib.pyplot.subplots.html)). Para ello, se recorre cada clase y se van filtrando las instancias pertenecientes a cada clase, se obtiene la coordenada (x, y) de cada instancia, se le asigna un color (c), el tamaño (s), y la etiqueta de clase de cada punto."
   ]
  },
  {
   "cell_type": "code",
   "execution_count": 2,
   "id": "2e0ab11a",
   "metadata": {
    "scrolled": false
   },
   "outputs": [
    {
     "data": {
      "image/png": "[encoded data removed]",
      "text/plain": [
       "<Figure size 640x480 with 1 Axes>"
      ]
     },
     "metadata": {},
     "output_type": "display_data"
    }
   ],
   "source": [
    "n_samples = 200\n",
    "blob_centers = ([1, 1], [3, 4], [1, 3.3], [3.5, 1.8])\n",
    "data, labels = make_blobs(n_samples=n_samples, \n",
    "                          centers=blob_centers, \n",
    "                          cluster_std=0.5,\n",
    "                          random_state=0)\n",
    "\n",
    "\n",
    "colours = ('green', 'orange', \"blue\", \"magenta\")\n",
    "fig, ax = plt.subplots()\n",
    "\n",
    "for n_class in range(len(blob_centers)):\n",
    "    ax.scatter(data[labels==n_class][:, 0], \n",
    "               data[labels==n_class][:, 1], \n",
    "               c=colours[n_class], \n",
    "               s=30, \n",
    "               label=str(n_class))"
   ]
  },
  {
   "cell_type": "markdown",
   "id": "a537f0ae",
   "metadata": {},
   "source": [
    "Se importa la función para generar el conjunto de entrenamiento y prueba: 80% training, 20% test"
   ]
  },
  {
   "cell_type": "code",
   "execution_count": 13,
   "id": "56193f0c",
   "metadata": {},
   "outputs": [],
   "source": [
    "from sklearn.model_selection import train_test_split\n",
    "datasets = train_test_split(data, \n",
    "                            labels,\n",
    "                            test_size=0.2)\n",
    "\n",
    "train_data, test_data, train_labels, test_labels = datasets"
   ]
  },
  {
   "cell_type": "markdown",
   "id": "6ac9c868",
   "metadata": {},
   "source": [
    "Se importa una red neuronal tipo percetrón multicapa de propagación hacia adelante (Multi-Layer Percetron) y se configuran sus parámetros ([Referencia](https://scikit-learn.org/stable/modules/generated/sklearn.neural_network.MLPClassifier.html)). "
   ]
  },
  {
   "cell_type": "code",
   "execution_count": 14,
   "id": "cd9f2038",
   "metadata": {},
   "outputs": [
    {
     "data": {
      "text/html": [
       "<style>#sk-container-id-3 {color: black;background-color: white;}#sk-container-id-3 pre{padding: 0;}#sk-container-id-3 div.sk-toggleable {background-color: white;}#sk-container-id-3 label.sk-toggleable__label {cursor: pointer;display: block;width: 100%;margin-bottom: 0;padding: 0.3em;box-sizing: border-box;text-align: center;}#sk-container-id-3 label.sk-toggleable__label-arrow:before {content: \"▸\";float: left;margin-right: 0.25em;color: #696969;}#sk-container-id-3 label.sk-toggleable__label-arrow:hover:before {color: black;}#sk-container-id-3 div.sk-estimator:hover label.sk-toggleable__label-arrow:before {color: black;}#sk-container-id-3 div.sk-toggleable__content {max-height: 0;max-width: 0;overflow: hidden;text-align: left;background-color: #f0f8ff;}#sk-container-id-3 div.sk-toggleable__content pre {margin: 0.2em;color: black;border-radius: 0.25em;background-color: #f0f8ff;}#sk-container-id-3 input.sk-toggleable__control:checked~div.sk-toggleable__content {max-height: 200px;max-width: 100%;overflow: auto;}#sk-container-id-3 input.sk-toggleable__control:checked~label.sk-toggleable__label-arrow:before {content: \"▾\";}#sk-container-id-3 div.sk-estimator input.sk-toggleable__control:checked~label.sk-toggleable__label {background-color: #d4ebff;}#sk-container-id-3 div.sk-label input.sk-toggleable__control:checked~label.sk-toggleable__label {background-color: #d4ebff;}#sk-container-id-3 input.sk-hidden--visually {border: 0;clip: rect(1px 1px 1px 1px);clip: rect(1px, 1px, 1px, 1px);height: 1px;margin: -1px;overflow: hidden;padding: 0;position: absolute;width: 1px;}#sk-container-id-3 div.sk-estimator {font-family: monospace;background-color: #f0f8ff;border: 1px dotted black;border-radius: 0.25em;box-sizing: border-box;margin-bottom: 0.5em;}#sk-container-id-3 div.sk-estimator:hover {background-color: #d4ebff;}#sk-container-id-3 div.sk-parallel-item::after {content: \"\";width: 100%;border-bottom: 1px solid gray;flex-grow: 1;}#sk-container-id-3 div.sk-label:hover label.sk-toggleable__label {background-color: #d4ebff;}#sk-container-id-3 div.sk-serial::before {content: \"\";position: absolute;border-left: 1px solid gray;box-sizing: border-box;top: 0;bottom: 0;left: 50%;z-index: 0;}#sk-container-id-3 div.sk-serial {display: flex;flex-direction: column;align-items: center;background-color: white;padding-right: 0.2em;padding-left: 0.2em;position: relative;}#sk-container-id-3 div.sk-item {position: relative;z-index: 1;}#sk-container-id-3 div.sk-parallel {display: flex;align-items: stretch;justify-content: center;background-color: white;position: relative;}#sk-container-id-3 div.sk-item::before, #sk-container-id-3 div.sk-parallel-item::before {content: \"\";position: absolute;border-left: 1px solid gray;box-sizing: border-box;top: 0;bottom: 0;left: 50%;z-index: -1;}#sk-container-id-3 div.sk-parallel-item {display: flex;flex-direction: column;z-index: 1;position: relative;background-color: white;}#sk-container-id-3 div.sk-parallel-item:first-child::after {align-self: flex-end;width: 50%;}#sk-container-id-3 div.sk-parallel-item:last-child::after {align-self: flex-start;width: 50%;}#sk-container-id-3 div.sk-parallel-item:only-child::after {width: 0;}#sk-container-id-3 div.sk-dashed-wrapped {border: 1px dashed gray;margin: 0 0.4em 0.5em 0.4em;box-sizing: border-box;padding-bottom: 0.4em;background-color: white;}#sk-container-id-3 div.sk-label label {font-family: monospace;font-weight: bold;display: inline-block;line-height: 1.2em;}#sk-container-id-3 div.sk-label-container {text-align: center;}#sk-container-id-3 div.sk-container {/* jupyter's `normalize.less` sets `[hidden] { display: none; }` but bootstrap.min.css set `[hidden] { display: none !important; }` so we also need the `!important` here to be able to override the default hidden behavior on the sphinx rendered scikit-learn.org. See: https://github.com/scikit-learn/scikit-learn/issues/21755 */display: inline-block !important;position: relative;}#sk-container-id-3 div.sk-text-repr-fallback {display: none;}</style><div id=\"sk-container-id-3\" class=\"sk-top-container\"><div class=\"sk-text-repr-fallback\"><pre>MLPClassifier(alpha=1e-05, hidden_layer_sizes=(6,), random_state=1,\n",
       "              solver=&#x27;lbfgs&#x27;)</pre><b>In a Jupyter environment, please rerun this cell to show the HTML representation or trust the notebook. <br />On GitHub, the HTML representation is unable to render, please try loading this page with nbviewer.org.</b></div><div class=\"sk-container\" hidden><div class=\"sk-item\"><div class=\"sk-estimator sk-toggleable\"><input class=\"sk-toggleable__control sk-hidden--visually\" id=\"sk-estimator-id-3\" type=\"checkbox\" checked><label for=\"sk-estimator-id-3\" class=\"sk-toggleable__label sk-toggleable__label-arrow\">MLPClassifier</label><div class=\"sk-toggleable__content\"><pre>MLPClassifier(alpha=1e-05, hidden_layer_sizes=(6,), random_state=1,\n",
       "              solver=&#x27;lbfgs&#x27;)</pre></div></div></div></div></div>"
      ],
      "text/plain": [
       "MLPClassifier(alpha=1e-05, hidden_layer_sizes=(6,), random_state=1,\n",
       "              solver='lbfgs')"
      ]
     },
     "execution_count": 14,
     "metadata": {},
     "output_type": "execute_result"
    }
   ],
   "source": [
    "from sklearn.neural_network import MLPClassifier\n",
    "\n",
    "clf = MLPClassifier(solver='lbfgs', \n",
    "                    alpha=1e-5,\n",
    "                    hidden_layer_sizes=(6,), \n",
    "                    random_state=1)\n",
    "\n",
    "clf.fit(train_data, train_labels)     "
   ]
  },
  {
   "cell_type": "code",
   "execution_count": 15,
   "id": "dd499111",
   "metadata": {},
   "outputs": [
    {
     "data": {
      "text/plain": [
       "0.9875"
      ]
     },
     "execution_count": 15,
     "metadata": {},
     "output_type": "execute_result"
    }
   ],
   "source": [
    "clf.score(train_data, train_labels)"
   ]
  },
  {
   "cell_type": "code",
   "execution_count": 18,
   "id": "b0c546f8",
   "metadata": {},
   "outputs": [
    {
     "name": "stdout",
     "output_type": "stream",
     "text": [
      "Accuracy score on train data:  0.9875\n",
      "Accuracy score on test data:  0.975\n"
     ]
    }
   ],
   "source": [
    "from sklearn.metrics import accuracy_score\n",
    "\n",
    "predictions_train = clf.predict(train_data)\n",
    "predictions_test = clf.predict(test_data)\n",
    "acc_train_score = accuracy_score(predictions_train, train_labels)\n",
    "print(\"Accuracy score on train data: \", acc_train_score)\n",
    "acc_test_score = accuracy_score(predictions_test, test_labels)\n",
    "print(\"Accuracy score on test data: \", acc_test_score)"
   ]
  },
  {
   "cell_type": "code",
   "execution_count": null,
   "id": "20244075",
   "metadata": {},
   "outputs": [],
   "source": []
  }
 ],
 "metadata": {
  "kernelspec": {
   "display_name": "Python 3 (ipykernel)",
   "language": "python",
   "name": "python3"
  },
  "language_info": {
   "codemirror_mode": {
    "name": "ipython",
    "version": 3
   },
   "file_extension": ".py",
   "mimetype": "text/x-python",
   "name": "python",
   "nbconvert_exporter": "python",
   "pygments_lexer": "ipython3",
   "version": "3.9.13"
  }
 },
 "nbformat": 4,
 "nbformat_minor": 5
}
